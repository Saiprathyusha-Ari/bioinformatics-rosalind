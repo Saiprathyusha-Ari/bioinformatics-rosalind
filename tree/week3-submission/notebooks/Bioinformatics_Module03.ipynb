{
  "nbformat": 4,
  "nbformat_minor": 0,
  "metadata": {
    "colab": {
      "provenance": [],
      "collapsed_sections": [
        "jYlnA2Z2FhoW",
        "qRj8vCvXG-1k",
        "s7deJQCHHwOa",
        "GtjxkNHWN5Xo",
        "3yswDberkE7N",
        "4IM-9eAGkPdi",
        "nlBbe3qBRH_J",
        "_F9KCUzCd3ID",
        "iHFNxm30lzic",
        "sOgq54Op4MZL",
        "R5_dYi9f6t1z",
        "LdtXZ0LW9ugo",
        "i4Fo-ddSKWwy",
        "iupO8iI-ZYAe",
        "lY924yM0jckW",
        "NvqGEl4JjpiO",
        "DHzE7CI4lWGw",
        "WD5wnvQkmh6E",
        "kApNvgOLn8lp",
        "kq9QbEttnA4h"
      ]
    },
    "kernelspec": {
      "name": "python3",
      "display_name": "Python 3"
    },
    "language_info": {
      "name": "python"
    }
  },
  "cells": [
    {
      "cell_type": "markdown",
      "source": [
        "# **<font color=blue>P1.** </font>Rename this notebook **Bioinformatics_Module03.ipynb </font><br>**"
      ],
      "metadata": {
        "id": "l3h89jAYBUzz"
      }
    },
    {
      "cell_type": "markdown",
      "source": [
        "# **<font color=blue>P2. </font>**```print()```writes to standard output (i.e. prints output to the screen)"
      ],
      "metadata": {
        "id": "jYlnA2Z2FhoW"
      }
    },
    {
      "cell_type": "markdown",
      "source": [
        "####**TASK P2.1:** Print <font color = magenta>hello world</font>"
      ],
      "metadata": {
        "id": "r118fqQodA9x"
      }
    },
    {
      "cell_type": "code",
      "source": [
        "print(\"hello world\")"
      ],
      "metadata": {
        "id": "kvxK8D5uFx_x",
        "colab": {
          "base_uri": "https://localhost:8080/"
        },
        "outputId": "e4e690b3-44c3-4cc0-965d-298e8d38f2e1"
      },
      "execution_count": 1,
      "outputs": [
        {
          "output_type": "stream",
          "name": "stdout",
          "text": [
            "hello world\n"
          ]
        }
      ]
    },
    {
      "cell_type": "markdown",
      "source": [
        "# **<font color=blue>P3. </font>**```=``` is the ASSIGNMENT operator (assigns values to variables)\n",
        "####**TASK P3.1:** Ask Gemini, \"*Give me 3 examples to help practice understanding the assignment operator.*\""
      ],
      "metadata": {
        "id": "qRj8vCvXG-1k"
      }
    },
    {
      "cell_type": "code",
      "source": [
        "x=5\n",
        "x"
      ],
      "metadata": {
        "id": "VB8HPNe7JpuJ",
        "colab": {
          "base_uri": "https://localhost:8080/"
        },
        "outputId": "353cd52a-55b5-41fa-fb39-464abd4d0e7f"
      },
      "execution_count": 2,
      "outputs": [
        {
          "output_type": "execute_result",
          "data": {
            "text/plain": [
              "5"
            ]
          },
          "metadata": {},
          "execution_count": 2
        }
      ]
    },
    {
      "cell_type": "code",
      "source": [
        "# Example 1: Assigning a Number\n",
        "x = 10\n",
        "print(\"Example 1:\", x)  # Output: 10\n",
        "\n",
        "# Example 2: Assigning the Result of an Expression\n",
        "a = 5\n",
        "b = 3\n",
        "c = a + b\n",
        "print(\"Example 2:\", c)  # Output: 8\n",
        "\n",
        "# Example 3: Updating a Variable\n",
        "num = 7\n",
        "num = num + 2\n",
        "print(\"Example 3:\", num)  # Output: 9\n"
      ],
      "metadata": {
        "colab": {
          "base_uri": "https://localhost:8080/"
        },
        "id": "RABpXrnljY-d",
        "outputId": "e6d065a3-4c16-49d8-b089-8299c2934777"
      },
      "execution_count": 3,
      "outputs": [
        {
          "output_type": "stream",
          "name": "stdout",
          "text": [
            "Example 1: 10\n",
            "Example 2: 8\n",
            "Example 3: 9\n"
          ]
        }
      ]
    },
    {
      "cell_type": "markdown",
      "source": [
        "# **<font color=blue>P4. </font>** Data types: use ```type()``` to find a variable's \"type\"\n",
        "####**TASK P4.1:** Ask Gemini, \"*Give me examples of each data type to see how they look as outputs.*\""
      ],
      "metadata": {
        "id": "s7deJQCHHwOa"
      }
    },
    {
      "cell_type": "code",
      "source": [
        "type(x)"
      ],
      "metadata": {
        "colab": {
          "base_uri": "https://localhost:8080/"
        },
        "id": "ktR75uWIJ0uc",
        "outputId": "00a7dc34-ff56-4418-972c-95e1c2ad1286"
      },
      "execution_count": 4,
      "outputs": [
        {
          "output_type": "execute_result",
          "data": {
            "text/plain": [
              "int"
            ]
          },
          "metadata": {},
          "execution_count": 4
        }
      ]
    },
    {
      "cell_type": "code",
      "source": [
        "# Integer (whole number)\n",
        "my_int = 42\n",
        "print(\"Integer:\", my_int)\n",
        "\n",
        "# Float (decimal number)\n",
        "my_float = 3.14\n",
        "print(\"Float:\", my_float)\n",
        "\n",
        "# String (text)\n",
        "my_str = \"Hello, World!\"\n",
        "print(\"String:\", my_str)\n",
        "\n",
        "# Boolean (True/False)\n",
        "my_bool = True\n",
        "print(\"Boolean:\", my_bool)\n",
        "\n",
        "# List (ordered collection, can have mixed types)\n",
        "my_list = [1, 2, 3, \"apple\", 4.5]\n",
        "print(\"List:\", my_list)\n",
        "\n",
        "# Tuple (ordered, immutable collection)\n",
        "my_tuple = (10, 20, 30)\n",
        "print(\"Tuple:\", my_tuple)\n",
        "\n",
        "# Set (unordered collection, unique values)\n",
        "my_set = {1, 2, 3, 3, 4}\n",
        "print(\"Set:\", my_set)  # Notice duplicate 3 is removed\n",
        "\n",
        "# Dictionary (key-value pairs)\n",
        "my_dict = {\"name\": \"Alice\", \"age\": 25, \"is_student\": False}\n",
        "print(\"Dictionary:\", my_dict)\n"
      ],
      "metadata": {
        "colab": {
          "base_uri": "https://localhost:8080/"
        },
        "id": "ebfdxQm2jgzB",
        "outputId": "38a369f2-5369-4968-c503-895e514b377d"
      },
      "execution_count": 5,
      "outputs": [
        {
          "output_type": "stream",
          "name": "stdout",
          "text": [
            "Integer: 42\n",
            "Float: 3.14\n",
            "String: Hello, World!\n",
            "Boolean: True\n",
            "List: [1, 2, 3, 'apple', 4.5]\n",
            "Tuple: (10, 20, 30)\n",
            "Set: {1, 2, 3, 4}\n",
            "Dictionary: {'name': 'Alice', 'age': 25, 'is_student': False}\n"
          ]
        }
      ]
    },
    {
      "cell_type": "markdown",
      "source": [
        "# **<font color=blue>P5. </font>** Arithmetic and comparison operators\n",
        "####**TASK P5.1:**   Complete Rosalind #1"
      ],
      "metadata": {
        "id": "GtjxkNHWN5Xo"
      }
    },
    {
      "cell_type": "code",
      "source": [
        "y=2+3\n",
        "print(y)\n",
        "x==y"
      ],
      "metadata": {
        "id": "45s9c4vyQm2U",
        "colab": {
          "base_uri": "https://localhost:8080/"
        },
        "outputId": "1f850b45-8839-4310-9ddf-c7174cdfc042"
      },
      "execution_count": 6,
      "outputs": [
        {
          "output_type": "stream",
          "name": "stdout",
          "text": [
            "5\n"
          ]
        },
        {
          "output_type": "execute_result",
          "data": {
            "text/plain": [
              "False"
            ]
          },
          "metadata": {},
          "execution_count": 6
        }
      ]
    },
    {
      "cell_type": "markdown",
      "source": [
        "# **<font color=blue>P6. </font>** ```input()``` gets input from the user"
      ],
      "metadata": {
        "id": "3yswDberkE7N"
      }
    },
    {
      "cell_type": "markdown",
      "source": [
        "TASK P6.1"
      ],
      "metadata": {
        "id": "z97rSY9gqdad"
      }
    },
    {
      "cell_type": "code",
      "metadata": {
        "colab": {
          "base_uri": "https://localhost:8080/"
        },
        "id": "d91046dd",
        "outputId": "a44a6013-d199-4723-9662-2c0cfbb04e71"
      },
      "source": [
        "name = input(\"Enter your name: \")\n",
        "print(\"Hello, \" + name)"
      ],
      "execution_count": 7,
      "outputs": [
        {
          "output_type": "stream",
          "name": "stdout",
          "text": [
            "Enter your name: Prathyusha\n",
            "Hello, Prathyusha\n"
          ]
        }
      ]
    },
    {
      "cell_type": "markdown",
      "source": [
        "####**TASK P6.1:** Solve Rosalind #1 again, but get user input for the values of a and b rather than modifying the code."
      ],
      "metadata": {
        "id": "e3LaAQeLRmE6"
      }
    },
    {
      "cell_type": "code",
      "source": [
        "a= int(input(\"enter a value for a:\"))\n",
        "b= int(input(\"enter a value for b:\"))\n",
        "c=a**2+b**2\n",
        "print (\"The sq of the hypotenuse is\",c)"
      ],
      "metadata": {
        "id": "wZ0XL0L6Rq2H",
        "colab": {
          "base_uri": "https://localhost:8080/"
        },
        "outputId": "815f83c1-cf9b-4612-b66f-eb97bcaa03c9"
      },
      "execution_count": 8,
      "outputs": [
        {
          "output_type": "stream",
          "name": "stdout",
          "text": [
            "enter a value for a:827\n",
            "enter a value for b:873\n",
            "The sq of the hypotenuse is 1446058\n"
          ]
        }
      ]
    },
    {
      "cell_type": "markdown",
      "source": [
        "# **<font color=blue>P7. </font>** ```list``` type variables (create, replace, append)"
      ],
      "metadata": {
        "id": "4IM-9eAGkPdi"
      }
    },
    {
      "cell_type": "markdown",
      "source": [
        "####**TASK P7.1**"
      ],
      "metadata": {
        "id": "DhNGdYK6NEpe"
      }
    },
    {
      "cell_type": "code",
      "source": [
        "# Create a list with 3 elements and then print them\n",
        "\n",
        "my_list = [\"Hello\", \"World\", \"Charles Darwin\"]\n",
        "print (my_list[1])"
      ],
      "metadata": {
        "id": "N3VRRQIEkXuP",
        "colab": {
          "base_uri": "https://localhost:8080/"
        },
        "outputId": "171a25d8-2cbe-4bd1-ca9f-760bd5473475"
      },
      "execution_count": 9,
      "outputs": [
        {
          "output_type": "stream",
          "name": "stdout",
          "text": [
            "World\n"
          ]
        }
      ]
    },
    {
      "cell_type": "markdown",
      "source": [
        "####**TASK P7.2**"
      ],
      "metadata": {
        "id": "Yn3bAoi8NKy5"
      }
    },
    {
      "cell_type": "code",
      "source": [
        "# Substitute the item at index 2 in the list\n",
        "my_list[2] = \"Alfred R. Wallace\"\n",
        "print (my_list)"
      ],
      "metadata": {
        "id": "WNnsUuduOKbI",
        "colab": {
          "base_uri": "https://localhost:8080/"
        },
        "outputId": "f748fa58-d321-45a2-c4be-b772c7ca75de"
      },
      "execution_count": 10,
      "outputs": [
        {
          "output_type": "stream",
          "name": "stdout",
          "text": [
            "['Hello', 'World', 'Alfred R. Wallace']\n"
          ]
        }
      ]
    },
    {
      "cell_type": "markdown",
      "source": [
        "####**TASK P7.3**"
      ],
      "metadata": {
        "id": "SxiMMNLyPwGV"
      }
    },
    {
      "cell_type": "code",
      "source": [
        "# Append an item to the end of the list\n",
        "my_list.append(\"Charles Darwin\")\n",
        "print (my_list)"
      ],
      "metadata": {
        "id": "3VrLc6CGQTi-",
        "colab": {
          "base_uri": "https://localhost:8080/"
        },
        "outputId": "1b79fa80-838f-482b-f123-3b579f6425eb"
      },
      "execution_count": 11,
      "outputs": [
        {
          "output_type": "stream",
          "name": "stdout",
          "text": [
            "['Hello', 'World', 'Alfred R. Wallace', 'Charles Darwin']\n"
          ]
        }
      ]
    },
    {
      "cell_type": "markdown",
      "source": [
        "####**TASK P7.4**. Ask Gemini how to <font color=crimson>```insert```</font> a new item at index 1 in the list"
      ],
      "metadata": {
        "id": "XQKmwgbfQond"
      }
    },
    {
      "cell_type": "code",
      "source": [
        "# On line #2 insert an item at index 1 of my_list\n",
        "my_list.insert(1, \"Xavier\")\n",
        "print (my_list)"
      ],
      "metadata": {
        "id": "u0maP5CZZN13",
        "colab": {
          "base_uri": "https://localhost:8080/"
        },
        "outputId": "b8848edb-a654-458d-872d-2e24badfa600"
      },
      "execution_count": 12,
      "outputs": [
        {
          "output_type": "stream",
          "name": "stdout",
          "text": [
            "['Hello', 'Xavier', 'World', 'Alfred R. Wallace', 'Charles Darwin']\n"
          ]
        }
      ]
    },
    {
      "cell_type": "markdown",
      "source": [
        "# **<font color=blue>P8. </font>** Slicing lists and strings"
      ],
      "metadata": {
        "id": "nlBbe3qBRH_J"
      }
    },
    {
      "cell_type": "markdown",
      "source": [
        "####**TASK P8.1** Slice and print only the middle two elements from the list created in P7 (i.e. only <font color=magenta>World</font> and <font color=magenta>Alfred R. Wallace</font>).  "
      ],
      "metadata": {
        "id": "M0YW2MP0WtuI"
      }
    },
    {
      "cell_type": "code",
      "source": [
        "print (my_list[2:4])"
      ],
      "metadata": {
        "colab": {
          "base_uri": "https://localhost:8080/"
        },
        "id": "Tp1djNtiaxSb",
        "outputId": "23e59d71-0d4a-4a0f-f470-89ec1b857455"
      },
      "execution_count": 13,
      "outputs": [
        {
          "output_type": "stream",
          "name": "stdout",
          "text": [
            "['World', 'Alfred R. Wallace']\n"
          ]
        }
      ]
    },
    {
      "cell_type": "markdown",
      "source": [
        "####**TASK P8.2**: Print <font color=magenta>Wallace World</font> from **my_string** by slicing\n"
      ],
      "metadata": {
        "id": "_F9KCUzCd3ID"
      }
    },
    {
      "cell_type": "code",
      "source": [
        "my_string = \"HelloWorldCharlesDarwinAlfred R. Walace\"\n",
        "print (my_string[0:5],my_string[5:10])\n",
        "\n",
        "# in the print command below input the correct index values to complete Task P8.2\n",
        "print (my_string[33: ],my_string[5:10])"
      ],
      "metadata": {
        "colab": {
          "base_uri": "https://localhost:8080/"
        },
        "id": "AafKngtba8En",
        "outputId": "834ef2c0-e408-4372-d459-6071a66d3d28"
      },
      "execution_count": 14,
      "outputs": [
        {
          "output_type": "stream",
          "name": "stdout",
          "text": [
            "Hello World\n",
            "Walace World\n"
          ]
        }
      ]
    },
    {
      "cell_type": "markdown",
      "source": [
        "####**TASK P8.3**  **<font color = orange> Complete Rosalind Problem #2 Strings and Lists</font>**"
      ],
      "metadata": {
        "id": "2TTQVE-Xf8jR"
      }
    },
    {
      "cell_type": "code",
      "source": [
        "# Enter code for Rosalind 2 here:\n",
        "#problem 2\n",
        "s = input().strip()\n",
        "a, b, c, d = map(int, input().split())\n",
        "\n",
        "# Extract slices (inclusive)\n",
        "first = s[a:b+1]\n",
        "second = s[c:d+1]\n",
        "\n",
        "# Output with space\n",
        "print(first, second)"
      ],
      "metadata": {
        "id": "LI88f5RZh4GL",
        "colab": {
          "base_uri": "https://localhost:8080/"
        },
        "outputId": "0fa99525-e5d4-4490-b91a-ed7b6428fa0c"
      },
      "execution_count": 15,
      "outputs": [
        {
          "output_type": "stream",
          "name": "stdout",
          "text": [
            "cI2z39IzF8b3jF7wL1P9upGUPZ85v10jxsh3EkcwnoMbIgipvprxpyckPIdw9n8XvaDgTsBkuuB1GDMIY7mNettati8DXlOzh507mJ8iRag6xhlRI4jIOiRVv5m4hTrzstellioPOEORC5PE0yRrxyZREva6ggcOsiWHd0idTicMT4WIHiL97OyFy1jzx8w\n",
            "83 87 128 134\n",
            "Netta stellio\n"
          ]
        }
      ]
    },
    {
      "cell_type": "markdown",
      "source": [
        "####**<font color=crimson>TASK 8.4 Commit to GitHub**</font>*italicized text*"
      ],
      "metadata": {
        "id": "Tw6Pwh6TjwJ9"
      }
    },
    {
      "cell_type": "markdown",
      "source": [
        "# **<font color=blue>P9. </font>** ```if``` and ```else``` - conditional output"
      ],
      "metadata": {
        "id": "iHFNxm30lzic"
      }
    },
    {
      "cell_type": "markdown",
      "source": [
        "####**TASK P9.1** Create some code that subtracts two numbers if they are different or adds them if they are the same."
      ],
      "metadata": {
        "id": "WCXnGdftztbN"
      }
    },
    {
      "cell_type": "code",
      "source": [
        "a=5\n",
        "b=5\n",
        "\n",
        "if a!=b:\n",
        "  print(a-b)\n",
        "\n",
        "else:\n",
        "  print(a+b)"
      ],
      "metadata": {
        "id": "KabZsL5Fy8jJ",
        "colab": {
          "base_uri": "https://localhost:8080/"
        },
        "outputId": "9f3b796a-8348-4081-bceb-567790e551e3"
      },
      "execution_count": 16,
      "outputs": [
        {
          "output_type": "stream",
          "name": "stdout",
          "text": [
            "10\n"
          ]
        }
      ]
    },
    {
      "cell_type": "markdown",
      "source": [
        "# **<font color=blue>P10.</font>** ```while``` loops"
      ],
      "metadata": {
        "id": "sOgq54Op4MZL"
      }
    },
    {
      "cell_type": "markdown",
      "source": [
        "####**TASK P10.1** Create a while loop that runs 3 times\n"
      ],
      "metadata": {
        "id": "JMqGqhTn4l9s"
      }
    },
    {
      "cell_type": "code",
      "source": [
        "#initiate a counter\n",
        "a = 1\n",
        "\n",
        "#print \"Counting!\" while a<=3\n",
        "while a <= 3:\n",
        "\n",
        "    print (\"Counting!\" * a)\n",
        "    a += 1"
      ],
      "metadata": {
        "id": "07YbiCGO4O1w",
        "colab": {
          "base_uri": "https://localhost:8080/"
        },
        "outputId": "a5265fdc-1f33-4b58-a58f-74953ec14b65"
      },
      "execution_count": 17,
      "outputs": [
        {
          "output_type": "stream",
          "name": "stdout",
          "text": [
            "Counting!\n",
            "Counting!Counting!\n",
            "Counting!Counting!Counting!\n"
          ]
        }
      ]
    },
    {
      "cell_type": "markdown",
      "source": [
        "# **<font color=blue>P11.</font>** ```for``` loops – looping over lists"
      ],
      "metadata": {
        "id": "R5_dYi9f6t1z"
      }
    },
    {
      "cell_type": "markdown",
      "source": [
        "####**TASK P11.1** Create a for loop to print each item in a list\n"
      ],
      "metadata": {
        "id": "x9F7v_V073wO"
      }
    },
    {
      "cell_type": "code",
      "source": [
        "names = [\"Alice\",\"Bob\",\"Charley\"]\n",
        "\n",
        "for name in names:\n",
        "    print (\"Hello\", name)"
      ],
      "metadata": {
        "id": "-aqaQ5hz70yo",
        "colab": {
          "base_uri": "https://localhost:8080/"
        },
        "outputId": "f174fc90-e803-4092-cc9a-1c41b4ae5b58"
      },
      "execution_count": 18,
      "outputs": [
        {
          "output_type": "stream",
          "name": "stdout",
          "text": [
            "Hello Alice\n",
            "Hello Bob\n",
            "Hello Charley\n"
          ]
        }
      ]
    },
    {
      "cell_type": "markdown",
      "source": [
        "# **<font color=blue>P12.</font>** ```for``` loops over a ```range()```of numbers"
      ],
      "metadata": {
        "id": "LdtXZ0LW9ugo"
      }
    },
    {
      "cell_type": "markdown",
      "source": [
        "####**TASK 12.1** Using for and range(), create code that prints the numbers 0-9"
      ],
      "metadata": {
        "id": "jG6jvXEBDi4H"
      }
    },
    {
      "cell_type": "code",
      "source": [
        "# Create a variable to define the  number of iterations\n",
        "iterations = 10\n",
        "\n",
        "#Print the current item's value each time through the loop\n",
        "for number in range(iterations):\n",
        "    print (number)"
      ],
      "metadata": {
        "colab": {
          "base_uri": "https://localhost:8080/"
        },
        "id": "RFBXqQNu_E6X",
        "outputId": "832c8007-e697-44c6-aa5c-7261109654bc"
      },
      "execution_count": 19,
      "outputs": [
        {
          "output_type": "stream",
          "name": "stdout",
          "text": [
            "0\n",
            "1\n",
            "2\n",
            "3\n",
            "4\n",
            "5\n",
            "6\n",
            "7\n",
            "8\n",
            "9\n"
          ]
        }
      ]
    },
    {
      "cell_type": "markdown",
      "source": [
        "####**TASK 12.2** Modify the code so that it only prints every 3rd number from 9 through 27 (i.e. including 27)"
      ],
      "metadata": {
        "id": "NRd5srR_G-PQ"
      }
    },
    {
      "cell_type": "code",
      "source": [
        "for number in range(9,28,3):\n",
        "    print (number)"
      ],
      "metadata": {
        "id": "irYTFPO-IRHo",
        "colab": {
          "base_uri": "https://localhost:8080/"
        },
        "outputId": "18428665-1b64-4c0e-9877-794f906732ba"
      },
      "execution_count": 20,
      "outputs": [
        {
          "output_type": "stream",
          "name": "stdout",
          "text": [
            "9\n",
            "12\n",
            "15\n",
            "18\n",
            "21\n",
            "24\n",
            "27\n"
          ]
        }
      ]
    },
    {
      "cell_type": "markdown",
      "source": [
        "####**TASK 12.3** <font color = orange> **Complete Rosalind Problem #3 Conditions and Loops** </font>"
      ],
      "metadata": {
        "id": "83jDEjpMHXUa"
      }
    },
    {
      "cell_type": "code",
      "source": [
        "# Enter code for Rosalind 3 here:\n",
        "#problem 3\n",
        "a, b = map(int, input().split())\n",
        "\n",
        "# adjust to odd boundaries\n",
        "if a % 2 == 0:\n",
        "    a += 1\n",
        "if b % 2 == 0:\n",
        "    b -= 1\n",
        "\n",
        "# number of odd terms\n",
        "n = (b - a) // 2 + 1\n",
        "\n",
        "# sum of arithmetic series\n",
        "result = n * (a + b) // 2\n",
        "\n",
        "print(result)"
      ],
      "metadata": {
        "id": "EI7hRtakG90R",
        "colab": {
          "base_uri": "https://localhost:8080/"
        },
        "outputId": "90519110-be46-4cf1-dc56-92e4dc00382f"
      },
      "execution_count": 21,
      "outputs": [
        {
          "output_type": "stream",
          "name": "stdout",
          "text": [
            "4652 9405\n",
            "16707933\n"
          ]
        }
      ]
    },
    {
      "cell_type": "markdown",
      "source": [
        "####**<font color=crimson>TASK 12.4 Commit to GitHub**</font>"
      ],
      "metadata": {
        "id": "3P9DKNbPI1wp"
      }
    },
    {
      "cell_type": "markdown",
      "source": [
        "# **<font color=blue>P13.</font>** File I/O – with open(\"filename\", \"mode\") as filehandle:\n"
      ],
      "metadata": {
        "id": "i4Fo-ddSKWwy"
      }
    },
    {
      "cell_type": "markdown",
      "source": [
        "####**TASK P13.1** Use the ```read()``` function to print the <font color = orange>practice dataset from Rosalind #4</font>\n"
      ],
      "metadata": {
        "id": "sgc3wiQmLXcI"
      }
    },
    {
      "cell_type": "code",
      "source": [
        "file_content = \"\"\"Bravely bold Sir Robin rode forth from Camelot\n",
        "Yes, brave Sir Robin turned about\n",
        "He was not afraid to die, O brave Sir Robin\n",
        "And gallantly he chickened out\n",
        "He was not at all afraid to be killed in nasty ways\n",
        "Bravely talking to his feet\n",
        "Brave, brave, brave, brave Sir Robin\n",
        "He beat a very brave retreat\"\"\"\n",
        "\n",
        "with open(\"practice.txt\", \"w\") as f:\n",
        "  f.write(file_content)"
      ],
      "metadata": {
        "id": "Q1CuzlEAlnBF"
      },
      "execution_count": 22,
      "outputs": []
    },
    {
      "cell_type": "code",
      "source": [
        "with open(\"practice.txt\", \"r\") as infile:\n",
        "  all_lines = infile.readlines()\n",
        "\n",
        "# Use list slicing to get even-numbered lines (every second element starting from the second line)\n",
        "# Remember that lists are 0-indexed, so index 1 is the second line, index 3 is the fourth, etc.\n",
        "even_lines = all_lines[1::2]\n",
        "for i in even_lines:\n",
        "  print(i)\n",
        "    #print(data.readlines())"
      ],
      "metadata": {
        "id": "V5nzHsnULA_n",
        "colab": {
          "base_uri": "https://localhost:8080/"
        },
        "outputId": "ee092b63-c753-4b7c-f7b6-e293e421dd13"
      },
      "execution_count": 23,
      "outputs": [
        {
          "output_type": "stream",
          "name": "stdout",
          "text": [
            "Yes, brave Sir Robin turned about\n",
            "\n",
            "And gallantly he chickened out\n",
            "\n",
            "Bravely talking to his feet\n",
            "\n",
            "He beat a very brave retreat\n"
          ]
        }
      ]
    },
    {
      "cell_type": "markdown",
      "source": [
        "####**TASK P13.2** Explore file object functions to read and print practice.txt"
      ],
      "metadata": {
        "id": "GLO6tBYNVzYZ"
      }
    },
    {
      "cell_type": "markdown",
      "source": [
        "#<font color=blue>**P14.**</font> Store the content, close the file, and join ( ) the list"
      ],
      "metadata": {
        "id": "iupO8iI-ZYAe"
      }
    },
    {
      "cell_type": "code",
      "source": [
        "with open(\"practice.txt\",\"r\") as data:\n",
        "\n",
        "  list_of_lines=data.readlines()\n",
        "\n",
        "print (list_of_lines)"
      ],
      "metadata": {
        "id": "8U5w2qOudDyp",
        "colab": {
          "base_uri": "https://localhost:8080/"
        },
        "outputId": "91cc879f-1d19-42a3-b91e-4d605dd587ad"
      },
      "execution_count": 24,
      "outputs": [
        {
          "output_type": "stream",
          "name": "stdout",
          "text": [
            "['Bravely bold Sir Robin rode forth from Camelot\\n', 'Yes, brave Sir Robin turned about\\n', 'He was not afraid to die, O brave Sir Robin\\n', 'And gallantly he chickened out\\n', 'He was not at all afraid to be killed in nasty ways\\n', 'Bravely talking to his feet\\n', 'Brave, brave, brave, brave Sir Robin\\n', 'He beat a very brave retreat']\n"
          ]
        }
      ]
    },
    {
      "cell_type": "markdown",
      "source": [
        "####**TASK P14.1** Read practice.txt into a list of lines. Then, after the file is closed, use the join ( ) function to print the contents so it looks like the original input."
      ],
      "metadata": {
        "id": "5pPhGmQYiiKx"
      }
    },
    {
      "cell_type": "code",
      "source": [
        "print (\"_\".join(list_of_lines))"
      ],
      "metadata": {
        "id": "XLvFZ9uSeyYH",
        "colab": {
          "base_uri": "https://localhost:8080/"
        },
        "outputId": "9ab0c4ad-284f-48a6-83c2-bd8654e9bff6"
      },
      "execution_count": 25,
      "outputs": [
        {
          "output_type": "stream",
          "name": "stdout",
          "text": [
            "Bravely bold Sir Robin rode forth from Camelot\n",
            "_Yes, brave Sir Robin turned about\n",
            "_He was not afraid to die, O brave Sir Robin\n",
            "_And gallantly he chickened out\n",
            "_He was not at all afraid to be killed in nasty ways\n",
            "_Bravely talking to his feet\n",
            "_Brave, brave, brave, brave Sir Robin\n",
            "_He beat a very brave retreat\n"
          ]
        }
      ]
    },
    {
      "cell_type": "markdown",
      "source": [
        "#<font color=blue>**P15.**</font> Combining for loops with file objects"
      ],
      "metadata": {
        "id": "lY924yM0jckW"
      }
    },
    {
      "cell_type": "markdown",
      "source": [
        "####**TASK P15.1** Use a for loop to print each line in practice.txt"
      ],
      "metadata": {
        "id": "NvqGEl4JjpiO"
      }
    },
    {
      "cell_type": "code",
      "source": [
        "with open(\"practice.txt\",\"r\") as data:\n",
        "\n",
        "  for line in data:\n",
        "    print (line)"
      ],
      "metadata": {
        "id": "snY-10pUkMby",
        "colab": {
          "base_uri": "https://localhost:8080/"
        },
        "outputId": "969fa1c3-21b6-42a4-8c71-49eea59efcde"
      },
      "execution_count": 26,
      "outputs": [
        {
          "output_type": "stream",
          "name": "stdout",
          "text": [
            "Bravely bold Sir Robin rode forth from Camelot\n",
            "\n",
            "Yes, brave Sir Robin turned about\n",
            "\n",
            "He was not afraid to die, O brave Sir Robin\n",
            "\n",
            "And gallantly he chickened out\n",
            "\n",
            "He was not at all afraid to be killed in nasty ways\n",
            "\n",
            "Bravely talking to his feet\n",
            "\n",
            "Brave, brave, brave, brave Sir Robin\n",
            "\n",
            "He beat a very brave retreat\n"
          ]
        }
      ]
    },
    {
      "cell_type": "markdown",
      "source": [
        "####**TASK P15.2** <font color=orange>**Complete Rosalind Problem #4 Working with Files**</font>\n"
      ],
      "metadata": {
        "id": "DHzE7CI4lWGw"
      }
    },
    {
      "cell_type": "code",
      "source": [
        "with open(\"practice.txt\",\"r\") as data:\n",
        "  lines = data.readlines() # Read all lines into a list\n",
        "\n",
        "# Now iterate through the list using slicing\n",
        "for line in lines[1::2]:\n",
        "  print (line)"
      ],
      "metadata": {
        "id": "8QR9dRFtltBN",
        "colab": {
          "base_uri": "https://localhost:8080/"
        },
        "outputId": "a67aaf65-36c9-4601-defa-9fc401394071"
      },
      "execution_count": 27,
      "outputs": [
        {
          "output_type": "stream",
          "name": "stdout",
          "text": [
            "Yes, brave Sir Robin turned about\n",
            "\n",
            "And gallantly he chickened out\n",
            "\n",
            "Bravely talking to his feet\n",
            "\n",
            "He beat a very brave retreat\n"
          ]
        }
      ]
    },
    {
      "cell_type": "markdown",
      "source": [
        "####**<font color=crimson>TASK 15.4 Commit to GitHub**</font>"
      ],
      "metadata": {
        "id": "GJ_acW4WlwDn"
      }
    },
    {
      "cell_type": "markdown",
      "source": [
        "#<font color=blue>**P16.**</font> ```for word in line.split()``` – looping over strings and splitting by any delimiter"
      ],
      "metadata": {
        "id": "WD5wnvQkmh6E"
      }
    },
    {
      "cell_type": "markdown",
      "source": [
        "####**TASK P16.1** Print each word in the ROSALIND Problem #5 Sample Dataset on a separate line.\n"
      ],
      "metadata": {
        "id": "kApNvgOLn8lp"
      }
    },
    {
      "cell_type": "code",
      "source": [
        "file_content_5 = \"\"\"We tried list and we tried dicts also we tried Zen\"\"\"\n",
        "\n",
        "with open(\"practice_5.txt\", \"w\") as f:\n",
        "  f.write(file_content_5)"
      ],
      "metadata": {
        "id": "PBjyhwclpKoM"
      },
      "execution_count": 28,
      "outputs": []
    },
    {
      "cell_type": "code",
      "source": [
        "with open(\"practice_5.txt\",\"r\") as data:\n",
        "\n",
        "  line=data.read()\n",
        "\n",
        "for word in line.split():\n",
        "    print (word)"
      ],
      "metadata": {
        "colab": {
          "base_uri": "https://localhost:8080/"
        },
        "id": "2EOtS5cWm9zi",
        "outputId": "e7a4b1bc-816a-4563-a1a7-197709955958"
      },
      "execution_count": 29,
      "outputs": [
        {
          "output_type": "stream",
          "name": "stdout",
          "text": [
            "We\n",
            "tried\n",
            "list\n",
            "and\n",
            "we\n",
            "tried\n",
            "dicts\n",
            "also\n",
            "we\n",
            "tried\n",
            "Zen\n"
          ]
        }
      ]
    },
    {
      "cell_type": "markdown",
      "source": [
        "#<font color=blue>**P17.**</font> Python Dictionaries { }"
      ],
      "metadata": {
        "id": "kq9QbEttnA4h"
      }
    },
    {
      "cell_type": "markdown",
      "source": [
        "####**TASK 17.1** Create and print your first dictionary"
      ],
      "metadata": {
        "id": "lVudFQkZqJgh"
      }
    },
    {
      "cell_type": "code",
      "source": [
        "sequences = {\n",
        "    \"H.neandertalensis\":\"ACGTCGCTCTGCTA\",\n",
        "    \"H.sapiens\":\"ACGTCACTCTGCTA\"\n",
        "    }\n",
        "\n",
        "print (sequences)"
      ],
      "metadata": {
        "colab": {
          "base_uri": "https://localhost:8080/"
        },
        "id": "IzKFWDlgq6zo",
        "outputId": "54b0ec7a-1375-4461-c585-c0ae37f9dde5"
      },
      "execution_count": 30,
      "outputs": [
        {
          "output_type": "stream",
          "name": "stdout",
          "text": [
            "{'H.neandertalensis': 'ACGTCGCTCTGCTA', 'H.sapiens': 'ACGTCACTCTGCTA'}\n"
          ]
        }
      ]
    },
    {
      "cell_type": "markdown",
      "source": [
        "#<font color=blue>**P18.**</font> Manipulating and printing dictionaries"
      ],
      "metadata": {
        "id": "OvqoT6UwnK0g"
      }
    },
    {
      "cell_type": "markdown",
      "source": [
        "####**TASK 18.1** Modify line 8 to create a fasta file of the hominid sequences"
      ],
      "metadata": {
        "id": "5Be2tcQRrjso"
      }
    },
    {
      "cell_type": "code",
      "source": [
        "sequences[\"P.troglodytes\"]=\"ACGTCACTCTCCTA\"\n",
        "\n",
        "sequences.update({\"G.gorilla\":\"ACGTCCTCCTA\", \"H.erectus\":\"ACGTCACTCTGCTA\"})\n",
        "\n",
        "print (sequences[\"H.sapiens\"])\n",
        "\n",
        "for key,value in sequences.items():\n",
        "     print (f\">{key}\") # Print the key with a '>' prefix\n",
        "     print (value) # Print the value (sequence) on the next line"
      ],
      "metadata": {
        "colab": {
          "base_uri": "https://localhost:8080/"
        },
        "id": "b-2XDof4rtP8",
        "outputId": "f67bfcc3-e46e-49fe-ebdc-7da33dacddb2"
      },
      "execution_count": 31,
      "outputs": [
        {
          "output_type": "stream",
          "name": "stdout",
          "text": [
            "ACGTCACTCTGCTA\n",
            ">H.neandertalensis\n",
            "ACGTCGCTCTGCTA\n",
            ">H.sapiens\n",
            "ACGTCACTCTGCTA\n",
            ">P.troglodytes\n",
            "ACGTCACTCTCCTA\n",
            ">G.gorilla\n",
            "ACGTCCTCCTA\n",
            ">H.erectus\n",
            "ACGTCACTCTGCTA\n"
          ]
        }
      ]
    },
    {
      "cell_type": "markdown",
      "source": [
        "####**TASK P18.2** <font color= orange>**Complete Rosalind Problem #5  Dictionaries**</font>"
      ],
      "metadata": {
        "id": "Y98OZYUNvmWD"
      }
    },
    {
      "cell_type": "code",
      "source": [
        "# Enter code for Rosalind 5 here:\n",
        "with open(\"practice_5.txt\",\"r\") as data:\n",
        "\n",
        "  s=data.read()\n",
        "\n",
        "words = s.split()\n",
        "\n",
        "# Count frequencies\n",
        "counts = {}\n",
        "for word in words:\n",
        "    counts[word] = counts.get(word, 0) + 1\n",
        "\n",
        "# Print results\n",
        "for key, value in counts.items():\n",
        "    print(key, value)"
      ],
      "metadata": {
        "id": "lD3KoTY9wWa7",
        "colab": {
          "base_uri": "https://localhost:8080/"
        },
        "outputId": "8af8a50f-c042-43bd-ac8b-2db3fd4ba525"
      },
      "execution_count": 32,
      "outputs": [
        {
          "output_type": "stream",
          "name": "stdout",
          "text": [
            "We 1\n",
            "tried 3\n",
            "list 1\n",
            "and 1\n",
            "we 2\n",
            "dicts 1\n",
            "also 1\n",
            "Zen 1\n"
          ]
        }
      ]
    },
    {
      "cell_type": "markdown",
      "source": [
        "####**<font color=crimson>TASK 18.3 Commit to GitHub**</font>"
      ],
      "metadata": {
        "id": "1dJdfy4bwVO4"
      }
    },
    {
      "cell_type": "markdown",
      "source": [
        "#<font color=blue>**P19.**</font> ```count()``` – counting things made easy"
      ],
      "metadata": {
        "id": "28ygQlYJnZoA"
      }
    },
    {
      "cell_type": "markdown",
      "source": [
        "####**TASK P19.1** <font color= orange>**Complete Rosalind Problem #6  Counting DNA Nucleotides**</font>"
      ],
      "metadata": {
        "id": "CZ9tBWDmw4D-"
      }
    },
    {
      "cell_type": "code",
      "source": [
        "s = input().strip()\n",
        "\n",
        "# Count nucleotides\n",
        "count_A = s.count('A')\n",
        "count_C = s.count('C')\n",
        "count_G = s.count('G')\n",
        "count_T = s.count('T')\n",
        "\n",
        "# Print counts separated by spaces\n",
        "print(count_A, count_C, count_G, count_T)"
      ],
      "metadata": {
        "id": "GlwS14zGxBIC",
        "colab": {
          "base_uri": "https://localhost:8080/"
        },
        "outputId": "9f742caf-e7d8-48fd-d89b-19a9a139323e"
      },
      "execution_count": 33,
      "outputs": [
        {
          "output_type": "stream",
          "name": "stdout",
          "text": [
            "ATCTCGGATAAGTCGCCCCTTAGTGACCAGAATTGTGCTGGAGTAAAGCGGTGATCACTGGCAACATCCCGAGTCATCTCTACCACGATTTCGTCAGCGCTTTGGCCCAACGTTCAAAATCGTCTATGGATGGCTATGGGAATCGAATTATCTGGGTAGGATATTTTGTCGCGGCTTTTGCGAGAAACTCGTTACTCCCTGGACAGAGGATTTGGGCGAATGATTTCTGACCTGACTGCGGACCGCATAGATAAGCAGGCCGGGTAGTTTTTATCATTTGGAGTGTAACAGAACCCGCGTTGGCTTCGGAAAAGAACTCTGACGTTACTACGGCTATAGAACCGTCACGTCATCAGAGGTAGAAGTTGTGGGTCGCATTAACCATGGGGTTCCGCCGCACTCGTATGATTCTCAACTCGTGATCGGAAGGAGTGCTACAGAGTGTTAAGCTGACCATTGCCTATATGAAACAGTTTCCCCTTCACTATGGTCCAAACGTGTCGCGAGATATTGCAAAGCGCAGATGGGATATTCCTCTTCCTTGAATATAGAAGTAGCCAGGTTTAATGTGCGGAAGCCGAAGAGGATAAATTCGACGTTTACGGGTTATTCAACACAGGATCGTGTTTTCAGTTCTCAGTCGATCGATTTGGCTCATTGGGTTACTCCAGCGGTAGCACCTTCGATTATTCGGGGAGTCAGTTTGCCATGCGCTGTGGACTCAAACCAATTGTCCGGAGCACTGAATCGTGCATAAGAACAACTCCTCTTCAAATTCTTTCCTTCAACGAAGCCACAACCACGGGAGGGCGAACTCACGCATCGCTTACGCATTACAGGGGCAACTCACTTGGCCTACAGAGATGCG\n",
            "217 202 220 229\n"
          ]
        }
      ]
    },
    {
      "cell_type": "markdown",
      "source": [
        "####**TASK P19.2** Modify your code for the Rosalind #5 Dictionary problem so that it uses count( ) to count the words."
      ],
      "metadata": {
        "id": "rj-OWB6Jym5y"
      }
    },
    {
      "cell_type": "code",
      "source": [
        "with open(\"practice_5.txt\",\"r\") as data:\n",
        "\n",
        "  s=data.read()\n",
        "\n",
        "word_counts = {}\n",
        "words = s.split()\n",
        "\n",
        "for word in words:\n",
        "  if word not in word_counts:\n",
        "    word_counts[word] = words.count(word)\n",
        "\n",
        "for word, count in word_counts.items():\n",
        "  print(word, count)"
      ],
      "metadata": {
        "id": "9H_S6jLnzfxR",
        "colab": {
          "base_uri": "https://localhost:8080/"
        },
        "outputId": "059b70d2-f20e-4aaf-d3a4-a58c69eb4724"
      },
      "execution_count": 34,
      "outputs": [
        {
          "output_type": "stream",
          "name": "stdout",
          "text": [
            "We 1\n",
            "tried 3\n",
            "list 1\n",
            "and 1\n",
            "we 2\n",
            "dicts 1\n",
            "also 1\n",
            "Zen 1\n"
          ]
        }
      ]
    },
    {
      "cell_type": "markdown",
      "source": [
        "####**<font color=crimson>TASK 19.3 Commit to GitHub**</font>\n"
      ],
      "metadata": {
        "id": "RzMon_wAzg7D"
      }
    },
    {
      "cell_type": "markdown",
      "source": [
        "#<font color=blue>**P20.**</font> Installing biopython"
      ],
      "metadata": {
        "id": "-IB0c2gG0Z1O"
      }
    },
    {
      "cell_type": "code",
      "source": [
        "!pip install biopython"
      ],
      "metadata": {
        "colab": {
          "base_uri": "https://localhost:8080/"
        },
        "id": "pinPQdEn0mJM",
        "outputId": "2c5ed685-a83c-4b38-e3a9-d8b4be900ea9"
      },
      "execution_count": 35,
      "outputs": [
        {
          "output_type": "stream",
          "name": "stdout",
          "text": [
            "Collecting biopython\n",
            "  Downloading biopython-1.85-cp312-cp312-manylinux_2_17_x86_64.manylinux2014_x86_64.whl.metadata (13 kB)\n",
            "Requirement already satisfied: numpy in /usr/local/lib/python3.12/dist-packages (from biopython) (2.0.2)\n",
            "Downloading biopython-1.85-cp312-cp312-manylinux_2_17_x86_64.manylinux2014_x86_64.whl (3.3 MB)\n",
            "\u001b[2K   \u001b[90m━━━━━━━━━━━━━━━━━━━━━━━━━━━━━━━━━━━━━━━━\u001b[0m \u001b[32m3.3/3.3 MB\u001b[0m \u001b[31m25.5 MB/s\u001b[0m eta \u001b[36m0:00:00\u001b[0m\n",
            "\u001b[?25hInstalling collected packages: biopython\n",
            "Successfully installed biopython-1.85\n"
          ]
        }
      ]
    },
    {
      "cell_type": "code",
      "metadata": {
        "colab": {
          "base_uri": "https://localhost:8080/"
        },
        "id": "5ccd6f0b",
        "outputId": "94b52a75-296e-4938-e670-ef6a62d8411a"
      },
      "source": [
        "try:\n",
        "  from Bio.Seq import Seq\n",
        "  print(\"Biopython is installed correctly.\")\n",
        "except ImportError:\n",
        "  print(\"Biopython is not installed or there was an import error.\")"
      ],
      "execution_count": 36,
      "outputs": [
        {
          "output_type": "stream",
          "name": "stdout",
          "text": [
            "Biopython is installed correctly.\n"
          ]
        }
      ]
    },
    {
      "cell_type": "markdown",
      "source": [
        "#<font color=blue>**P21.**</font> Seq( ) – a function to define sequence objects"
      ],
      "metadata": {
        "id": "IGX-ThdQ3RuA"
      }
    },
    {
      "cell_type": "code",
      "source": [
        "from Bio.Seq import Seq\n",
        "\n",
        "my_sequence = Seq(\"GATGGAACTTGACTACGTAAATT\")"
      ],
      "metadata": {
        "id": "ltZBr8mE4OhM"
      },
      "execution_count": 37,
      "outputs": []
    },
    {
      "cell_type": "markdown",
      "source": [
        "####**TASK BP21.2** <font color=orange> **Complete Rosalind #7 Transcribing DNA into RNA**</font>"
      ],
      "metadata": {
        "id": "UXCuEFxg6Jxx"
      }
    },
    {
      "cell_type": "code",
      "source": [
        "rna_seq = my_sequence.transcribe()\n",
        "print(rna_seq)"
      ],
      "metadata": {
        "id": "UXt6gWLM6qde",
        "colab": {
          "base_uri": "https://localhost:8080/"
        },
        "outputId": "a6f7b7c0-7288-4648-eeff-469674d48ddd"
      },
      "execution_count": 38,
      "outputs": [
        {
          "output_type": "stream",
          "name": "stdout",
          "text": [
            "GAUGGAACUUGACUACGUAAAUU\n"
          ]
        }
      ]
    },
    {
      "cell_type": "markdown",
      "source": [
        "####**TASK BP21.2** <font color=orange> **Complete Rosalind #8  Translating RNA into Protein**</font>"
      ],
      "metadata": {
        "id": "9P4_MaXp6O3n"
      }
    },
    {
      "cell_type": "code",
      "source": [
        "my_rna=Seq('AUGGCCAUGGCGCCCAGAACUGAGAUCAAUAGUACCCGUAUUAACGGGUGA')\n",
        "protein_seq = my_rna.translate()\n",
        "print(protein_seq)"
      ],
      "metadata": {
        "id": "5Rzzfzij6q2P",
        "colab": {
          "base_uri": "https://localhost:8080/"
        },
        "outputId": "0b2afd4d-073b-493d-9d97-8660f4800102"
      },
      "execution_count": 39,
      "outputs": [
        {
          "output_type": "stream",
          "name": "stdout",
          "text": [
            "MAMAPRTEINSTRING*\n"
          ]
        }
      ]
    },
    {
      "cell_type": "markdown",
      "source": [
        "####**<font color=crimson>TASK 21.3 Commit to GitHub**</font>"
      ],
      "metadata": {
        "id": "dvtR4N7L6sZ_"
      }
    },
    {
      "cell_type": "markdown",
      "source": [
        "#<font color=blue>**P22.**</font> SeqIO – a function to parse( ) sequence files"
      ],
      "metadata": {
        "id": "bDJqtRiX3fEG"
      }
    },
    {
      "cell_type": "markdown",
      "source": [
        "####**TASK BP 22.1** Read in the practice dataset from Rosalind #9 and print the id of each sequence in the file."
      ],
      "metadata": {
        "id": "VKyMhLjx7nIo"
      }
    },
    {
      "cell_type": "code",
      "source": [
        "from Bio.SeqIO import parse\n",
        "from Bio.SeqUtils import gc_fraction\n",
        "\n",
        "# Create the practice_9.txt file with the sample dataset\n",
        "file_content_9 = \"\"\">Rosalind_6404\n",
        "CCTGCGGAAGATCGGCACTAGAATAGCCAGAACCGTTTCTCTGAGGCTTCCGGCCTTCCC\n",
        "TCCCACTAATAATTCTGAGG\n",
        ">Rosalind_5959\n",
        "CCATCGGTAGCGCATCCTTAGTCCAATTAAGTCCCTATCCAGGCGCTCCGCCGAAGGTCT\n",
        "ATATCCATTTGTCAGCAGACACGC\n",
        ">Rosalind_0808\n",
        "CCACCCTCGTGGTATGGCTAGGCATTCAGGAACCGGAGAACGCTTCAGACCAGCCCGGAC\n",
        "TGGGAACCTGCGGGCAGTAGGTGGAAT\"\"\"\n",
        "\n",
        "with open(\"practice_9.txt\", \"w\") as f:\n",
        "  f.write(file_content_9)\n",
        "kk=0\n",
        "# Load and parse the FASTA file\n",
        "sequences = list(parse(\"practice_9.txt\", \"fasta\"))\n",
        "#for seq_record in parse(\"practice_9.txt\", \"fasta\"):\n",
        "#    print (seq_record.id)\n",
        "#    print (seq_record.seq)\n",
        "#    print (len(seq_record.seq))\n",
        "#    print (seq_record)"
      ],
      "metadata": {
        "id": "xUi3JEoh7yJ6"
      },
      "execution_count": 40,
      "outputs": []
    },
    {
      "cell_type": "code",
      "source": [
        "longest_sequence = max(sequences, key=lambda seq_record: len(seq_record.seq))\n",
        "\n",
        "# Print the ID and the length of the longest sequence\n",
        "print(f\"The ID of the sequence with the maximum length is: {longest_sequence.id}\")\n",
        "print(f\"The maximum sequence length is: {len(longest_sequence.seq)}\")"
      ],
      "metadata": {
        "colab": {
          "base_uri": "https://localhost:8080/"
        },
        "id": "tfM0Xp-Sp-8G",
        "outputId": "fbc4ea89-f84d-4607-de23-1a2d89be0ca2"
      },
      "execution_count": 41,
      "outputs": [
        {
          "output_type": "stream",
          "name": "stdout",
          "text": [
            "The ID of the sequence with the maximum length is: Rosalind_0808\n",
            "The maximum sequence length is: 87\n"
          ]
        }
      ]
    },
    {
      "cell_type": "markdown",
      "source": [
        "#<font color=blue>**P23.**</font> SeqUtils.gc_fraction( ) – a function to compute GC content"
      ],
      "metadata": {
        "id": "SAjUYBpe3pwi"
      }
    },
    {
      "cell_type": "markdown",
      "source": [
        "####**TASK P23.1** Modify the script from TASK P22.1 so that it prints the GC content for each sequence in the file"
      ],
      "metadata": {
        "id": "kEjUu8HfHniC"
      }
    },
    {
      "cell_type": "code",
      "source": [
        "from Bio.SeqUtils import gc_fraction\n",
        "\n",
        "# Assuming 'sequences' list is already loaded from the FASTA file\n",
        "# If not, you would need to include the file reading and parsing code here\n",
        "\n",
        "# Calculate and print GC content for each sequence\n",
        "for seq_record in sequences:\n",
        "    gc_content = gc_fraction(seq_record.seq) * 100  # gc_fraction returns a fraction, multiply by 100 for percentage\n",
        "    print(f\"{seq_record.id}: {gc_content:.6f}%\") # Print with 6 decimal places for precision"
      ],
      "metadata": {
        "colab": {
          "base_uri": "https://localhost:8080/"
        },
        "id": "LMjtwwVaqCKv",
        "outputId": "a9369e38-d494-4436-9233-95d916b25bd1"
      },
      "execution_count": 42,
      "outputs": [
        {
          "output_type": "stream",
          "name": "stdout",
          "text": [
            "Rosalind_6404: 53.750000%\n",
            "Rosalind_5959: 53.571429%\n",
            "Rosalind_0808: 60.919540%\n"
          ]
        }
      ]
    },
    {
      "cell_type": "markdown",
      "source": [
        "####**TASK P23.2** <font color=orange> **Complete Rosalind #9  Computing GC Content**</font>"
      ],
      "metadata": {
        "id": "nJeXcQR7HwOf"
      }
    },
    {
      "cell_type": "code",
      "source": [
        "# Assuming 'longest_sequence' is already defined and contains the SeqRecord with the highest GC content\n",
        "\n",
        "print(f\"The ID of the sequence with the highest GC content is: {longest_sequence.id}\")\n",
        "print(f\"The highest GC content is: {gc_fraction(longest_sequence.seq) * 100:.6f}%\")"
      ],
      "metadata": {
        "colab": {
          "base_uri": "https://localhost:8080/"
        },
        "id": "zEkP_n7EqIN7",
        "outputId": "be0e62cf-5b92-48c0-d007-c30f81a1de36"
      },
      "execution_count": 43,
      "outputs": [
        {
          "output_type": "stream",
          "name": "stdout",
          "text": [
            "The ID of the sequence with the highest GC content is: Rosalind_0808\n",
            "The highest GC content is: 60.919540%\n"
          ]
        }
      ]
    },
    {
      "cell_type": "markdown",
      "source": [
        "####**<font color=crimson>TASK 23.3 Commit to GitHub**</font>"
      ],
      "metadata": {
        "id": "gavUUL39INzP"
      }
    },
    {
      "cell_type": "markdown",
      "source": [],
      "metadata": {
        "id": "Zf_OZq9R0dnq"
      }
    }
  ]
}